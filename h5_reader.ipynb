{
 "cells": [
  {
   "cell_type": "code",
   "execution_count": 1,
   "metadata": {},
   "outputs": [],
   "source": [
    "import h5py"
   ]
  },
  {
   "cell_type": "code",
   "execution_count": 2,
   "metadata": {},
   "outputs": [
    {
     "name": "stdout",
     "output_type": "stream",
     "text": [
      "model_weights <HDF5 group \"/model_weights\" (6 members)>\n",
      "model_weights/dense_14 <HDF5 group \"/model_weights/dense_14\" (1 members)>\n",
      "model_weights/dense_14/dense_14 <HDF5 group \"/model_weights/dense_14/dense_14\" (2 members)>\n",
      "model_weights/dense_14/dense_14/bias:0 <HDF5 dataset \"bias:0\": shape (11,), type \"<f4\">\n",
      "model_weights/dense_14/dense_14/kernel:0 <HDF5 dataset \"kernel:0\": shape (40, 11), type \"<f4\">\n",
      "model_weights/dense_15 <HDF5 group \"/model_weights/dense_15\" (1 members)>\n",
      "model_weights/dense_15/dense_15 <HDF5 group \"/model_weights/dense_15/dense_15\" (2 members)>\n",
      "model_weights/dense_15/dense_15/bias:0 <HDF5 dataset \"bias:0\": shape (71,), type \"<f4\">\n",
      "model_weights/dense_15/dense_15/kernel:0 <HDF5 dataset \"kernel:0\": shape (11, 71), type \"<f4\">\n",
      "model_weights/dense_16 <HDF5 group \"/model_weights/dense_16\" (1 members)>\n",
      "model_weights/dense_16/dense_16 <HDF5 group \"/model_weights/dense_16/dense_16\" (2 members)>\n",
      "model_weights/dense_16/dense_16/bias:0 <HDF5 dataset \"bias:0\": shape (11,), type \"<f4\">\n",
      "model_weights/dense_16/dense_16/kernel:0 <HDF5 dataset \"kernel:0\": shape (71, 11), type \"<f4\">\n",
      "model_weights/dense_17 <HDF5 group \"/model_weights/dense_17\" (1 members)>\n",
      "model_weights/dense_17/dense_17 <HDF5 group \"/model_weights/dense_17/dense_17\" (2 members)>\n",
      "model_weights/dense_17/dense_17/bias:0 <HDF5 dataset \"bias:0\": shape (76,), type \"<f4\">\n",
      "model_weights/dense_17/dense_17/kernel:0 <HDF5 dataset \"kernel:0\": shape (11, 76), type \"<f4\">\n",
      "model_weights/dense_18 <HDF5 group \"/model_weights/dense_18\" (1 members)>\n",
      "model_weights/dense_18/dense_18 <HDF5 group \"/model_weights/dense_18/dense_18\" (2 members)>\n",
      "model_weights/dense_18/dense_18/bias:0 <HDF5 dataset \"bias:0\": shape (1,), type \"<f4\">\n",
      "model_weights/dense_18/dense_18/kernel:0 <HDF5 dataset \"kernel:0\": shape (76, 1), type \"<f4\">\n",
      "model_weights/top_level_model_weights <HDF5 group \"/model_weights/top_level_model_weights\" (0 members)>\n",
      "optimizer_weights <HDF5 group \"/optimizer_weights\" (2 members)>\n",
      "optimizer_weights/Adam <HDF5 group \"/optimizer_weights/Adam\" (2 members)>\n",
      "optimizer_weights/Adam/m <HDF5 group \"/optimizer_weights/Adam/m\" (5 members)>\n",
      "optimizer_weights/Adam/m/dense_14 <HDF5 group \"/optimizer_weights/Adam/m/dense_14\" (2 members)>\n",
      "optimizer_weights/Adam/m/dense_14/bias:0 <HDF5 dataset \"bias:0\": shape (11,), type \"<f4\">\n",
      "optimizer_weights/Adam/m/dense_14/kernel:0 <HDF5 dataset \"kernel:0\": shape (40, 11), type \"<f4\">\n",
      "optimizer_weights/Adam/m/dense_15 <HDF5 group \"/optimizer_weights/Adam/m/dense_15\" (2 members)>\n",
      "optimizer_weights/Adam/m/dense_15/bias:0 <HDF5 dataset \"bias:0\": shape (71,), type \"<f4\">\n",
      "optimizer_weights/Adam/m/dense_15/kernel:0 <HDF5 dataset \"kernel:0\": shape (11, 71), type \"<f4\">\n",
      "optimizer_weights/Adam/m/dense_16 <HDF5 group \"/optimizer_weights/Adam/m/dense_16\" (2 members)>\n",
      "optimizer_weights/Adam/m/dense_16/bias:0 <HDF5 dataset \"bias:0\": shape (11,), type \"<f4\">\n",
      "optimizer_weights/Adam/m/dense_16/kernel:0 <HDF5 dataset \"kernel:0\": shape (71, 11), type \"<f4\">\n",
      "optimizer_weights/Adam/m/dense_17 <HDF5 group \"/optimizer_weights/Adam/m/dense_17\" (2 members)>\n",
      "optimizer_weights/Adam/m/dense_17/bias:0 <HDF5 dataset \"bias:0\": shape (76,), type \"<f4\">\n",
      "optimizer_weights/Adam/m/dense_17/kernel:0 <HDF5 dataset \"kernel:0\": shape (11, 76), type \"<f4\">\n",
      "optimizer_weights/Adam/m/dense_18 <HDF5 group \"/optimizer_weights/Adam/m/dense_18\" (2 members)>\n",
      "optimizer_weights/Adam/m/dense_18/bias:0 <HDF5 dataset \"bias:0\": shape (1,), type \"<f4\">\n",
      "optimizer_weights/Adam/m/dense_18/kernel:0 <HDF5 dataset \"kernel:0\": shape (76, 1), type \"<f4\">\n",
      "optimizer_weights/Adam/v <HDF5 group \"/optimizer_weights/Adam/v\" (5 members)>\n",
      "optimizer_weights/Adam/v/dense_14 <HDF5 group \"/optimizer_weights/Adam/v/dense_14\" (2 members)>\n",
      "optimizer_weights/Adam/v/dense_14/bias:0 <HDF5 dataset \"bias:0\": shape (11,), type \"<f4\">\n",
      "optimizer_weights/Adam/v/dense_14/kernel:0 <HDF5 dataset \"kernel:0\": shape (40, 11), type \"<f4\">\n",
      "optimizer_weights/Adam/v/dense_15 <HDF5 group \"/optimizer_weights/Adam/v/dense_15\" (2 members)>\n",
      "optimizer_weights/Adam/v/dense_15/bias:0 <HDF5 dataset \"bias:0\": shape (71,), type \"<f4\">\n",
      "optimizer_weights/Adam/v/dense_15/kernel:0 <HDF5 dataset \"kernel:0\": shape (11, 71), type \"<f4\">\n",
      "optimizer_weights/Adam/v/dense_16 <HDF5 group \"/optimizer_weights/Adam/v/dense_16\" (2 members)>\n",
      "optimizer_weights/Adam/v/dense_16/bias:0 <HDF5 dataset \"bias:0\": shape (11,), type \"<f4\">\n",
      "optimizer_weights/Adam/v/dense_16/kernel:0 <HDF5 dataset \"kernel:0\": shape (71, 11), type \"<f4\">\n",
      "optimizer_weights/Adam/v/dense_17 <HDF5 group \"/optimizer_weights/Adam/v/dense_17\" (2 members)>\n",
      "optimizer_weights/Adam/v/dense_17/bias:0 <HDF5 dataset \"bias:0\": shape (76,), type \"<f4\">\n",
      "optimizer_weights/Adam/v/dense_17/kernel:0 <HDF5 dataset \"kernel:0\": shape (11, 76), type \"<f4\">\n",
      "optimizer_weights/Adam/v/dense_18 <HDF5 group \"/optimizer_weights/Adam/v/dense_18\" (2 members)>\n",
      "optimizer_weights/Adam/v/dense_18/bias:0 <HDF5 dataset \"bias:0\": shape (1,), type \"<f4\">\n",
      "optimizer_weights/Adam/v/dense_18/kernel:0 <HDF5 dataset \"kernel:0\": shape (76, 1), type \"<f4\">\n",
      "optimizer_weights/iteration:0 <HDF5 dataset \"iteration:0\": shape (), type \"<i8\">\n"
     ]
    }
   ],
   "source": [
    "def print_hdf5_item(name, obj):\n",
    "    print(name, obj)\n",
    "\n",
    "with h5py.File('hypermodel_1.h5', 'r') as file:\n",
    "    file.visititems(print_hdf5_item)"
   ]
  },
  {
   "cell_type": "code",
   "execution_count": null,
   "metadata": {},
   "outputs": [],
   "source": []
  }
 ],
 "metadata": {
  "kernelspec": {
   "display_name": "dev",
   "language": "python",
   "name": "python3"
  },
  "language_info": {
   "codemirror_mode": {
    "name": "ipython",
    "version": 3
   },
   "file_extension": ".py",
   "mimetype": "text/x-python",
   "name": "python",
   "nbconvert_exporter": "python",
   "pygments_lexer": "ipython3",
   "version": "3.10.11"
  },
  "orig_nbformat": 4
 },
 "nbformat": 4,
 "nbformat_minor": 2
}
